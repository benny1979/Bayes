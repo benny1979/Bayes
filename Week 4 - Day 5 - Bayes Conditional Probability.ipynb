{
 "cells": [
  {
   "cell_type": "code",
   "execution_count": 324,
   "metadata": {
    "collapsed": true
   },
   "outputs": [],
   "source": [
    "import csv"
   ]
  },
  {
   "cell_type": "code",
   "execution_count": 325,
   "metadata": {
    "collapsed": true
   },
   "outputs": [],
   "source": [
    "def open_file(filename_in):\n",
    "    f = open(filename_in,'r')\n",
    "    datafile = csv.reader(f)\n",
    "    data = []\n",
    "    for line in datafile: #this gives you a list of lists\n",
    "        data.append(line)\n",
    "    headers = data[0] #take the first line of data as headers\n",
    "    data.pop(0) #then remove the first line from data as you've now separated that to headers \n",
    "    return (data, headers)"
   ]
  },
  {
   "cell_type": "code",
   "execution_count": 326,
   "metadata": {
    "collapsed": true
   },
   "outputs": [],
   "source": [
    "def check_outcomes(data_in):\n",
    "    '''takes in the data, returns summarised outcomes (a count of each outcome) as a dictionary, \n",
    "    and overall probabilities of each outcome as a dictionary'''\n",
    "    possible_outcomes = [] #blank list to tot up possible outcomes\n",
    "    summarised_outcomes = {} #results dict for count of each outcome \n",
    "    \n",
    "    for line in data_in: #record all outcomes\n",
    "        possible_outcomes.append(line[-1]) \n",
    "        \n",
    "    outcomes_set = list(set(possible_outcomes)) #this removes the dupes\n",
    "    \n",
    "    for item in outcomes_set: #populate the summary\n",
    "        summarised_outcomes[item] = possible_outcomes.count(item) \n",
    "        \n",
    "    outcome_probabilities = {} # these are the probabilities of the final column - use to normalise\n",
    "    for item in outcomes_set:\n",
    "        outcome_probabilities[item] = summarised_outcomes[item]/len(possible_outcomes)\n",
    "        \n",
    "    return summarised_outcomes, outcome_probabilities\n"
   ]
  },
  {
   "cell_type": "code",
   "execution_count": 327,
   "metadata": {},
   "outputs": [],
   "source": [
    "def parse_data(data_in, headers_in):\n",
    "    '''takes data and headers in. summarises and returns probability of each outcome as dictionary'''\n",
    "    \n",
    "    summarised_outcomes, outcome_probabilities = check_outcomes(data_in)\n",
    "\n",
    "    results = {} #set up a blank dictionary to hold summarised probability data for all columns\n",
    "    for i in range(len(headers_in)-1): #cycle through the columns\n",
    "        column_results = []\n",
    "        summarised_column_results ={}\n",
    "        for line in data_in:\n",
    "            column_results.append((line[-1], line[i]))\n",
    "        column_results_set = list(set(column_results))\n",
    "        for item in column_results_set:\n",
    "            summarised_column_results[item] = column_results.count(item) / summarised_outcomes[item[0]]\n",
    "        results[headers_in[i]] = summarised_column_results\n",
    "    \n",
    "    return results, outcome_probabilities"
   ]
  },
  {
   "cell_type": "code",
   "execution_count": 328,
   "metadata": {},
   "outputs": [],
   "source": [
    "def check_probability(instance_in, weights_in, outcomes_in):\n",
    "    '''takes in (i) a set of circumstances as a dictionary \n",
    "    (ii) a dictionary of weights\n",
    "    (iii) a dictionary of outcomes, with probabilities\n",
    "    and returns the probability of each possible outcome, un-normalised as a dictionary'''\n",
    "    results = {}\n",
    "    for outcome_key, outcome_probability in outcomes_in.items():\n",
    "        probability = outcome_probability\n",
    "        for instance_key, instance_value in instance_in.items():\n",
    "             probability *= weights_in[instance_key][(outcome_key,instance_value)]\n",
    "        results[outcome_key] = probability\n",
    "    return results"
   ]
  },
  {
   "cell_type": "code",
   "execution_count": 329,
   "metadata": {},
   "outputs": [],
   "source": [
    "def normalise_results(probability_dict_in):\n",
    "    '''takes in the un-normalised probability dictionary and returns a normalised probability dictionary'''\n",
    "    normalised_results = {}\n",
    "    for key, value in probability_dict_in.items():\n",
    "        normalised_results[key] = value / sum(probability_dict_in.values())\n",
    "    return normalised_results\n",
    "        "
   ]
  },
  {
   "cell_type": "code",
   "execution_count": 330,
   "metadata": {
    "collapsed": true
   },
   "outputs": [],
   "source": [
    "#build_filename = 'play_data_set.csv'"
   ]
  },
  {
   "cell_type": "code",
   "execution_count": 331,
   "metadata": {
    "collapsed": true
   },
   "outputs": [],
   "source": [
    "#data , headers = open_file(build_filename) "
   ]
  },
  {
   "cell_type": "code",
   "execution_count": 332,
   "metadata": {},
   "outputs": [],
   "source": [
    "#results, outcomes = parse_data(data,headers)"
   ]
  },
  {
   "cell_type": "code",
   "execution_count": 333,
   "metadata": {},
   "outputs": [],
   "source": [
    "#results"
   ]
  },
  {
   "cell_type": "code",
   "execution_count": 334,
   "metadata": {},
   "outputs": [],
   "source": [
    "#outcomes"
   ]
  },
  {
   "cell_type": "code",
   "execution_count": 335,
   "metadata": {},
   "outputs": [],
   "source": [
    "#test_scenario = check_probability({\"humidity\": \"dry\", \"temperature\": \"hot\", \"weather\": \"rainy\"}, results, outcomes)"
   ]
  },
  {
   "cell_type": "code",
   "execution_count": 336,
   "metadata": {},
   "outputs": [],
   "source": [
    "#normalise_results(test_scenario)"
   ]
  },
  {
   "cell_type": "code",
   "execution_count": 337,
   "metadata": {
    "collapsed": true
   },
   "outputs": [],
   "source": [
    "def run_model(filename_in, scenario_in):\n",
    "    data, headers = open_file(filename_in)\n",
    "    results, outcomes = parse_data(data, headers)\n",
    "    test_scenario = check_probability(scenario_in, results, outcomes)\n",
    "    normalised_results = normalise_results(test_scenario)\n",
    "    for k, v in normalised_results.items():\n",
    "        print('Normalised probability of {}: {}'.format(k, v))"
   ]
  },
  {
   "cell_type": "code",
   "execution_count": 338,
   "metadata": {},
   "outputs": [
    {
     "name": "stdout",
     "output_type": "stream",
     "text": [
      "Normalised probability of no: 0.3333333333333333\n",
      "Normalised probability of yes: 0.6666666666666666\n"
     ]
    }
   ],
   "source": [
    "run_model('play_data_set.csv', {\"humidity\": \"dry\", \"temperature\": \"hot\", \"weather\": \"rainy\"})"
   ]
  }
 ],
 "metadata": {
  "kernelspec": {
   "display_name": "Python 3",
   "language": "python",
   "name": "python3"
  },
  "language_info": {
   "codemirror_mode": {
    "name": "ipython",
    "version": 3
   },
   "file_extension": ".py",
   "mimetype": "text/x-python",
   "name": "python",
   "nbconvert_exporter": "python",
   "pygments_lexer": "ipython3",
   "version": "3.6.2"
  }
 },
 "nbformat": 4,
 "nbformat_minor": 2
}
