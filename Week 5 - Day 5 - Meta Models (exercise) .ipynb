{
 "cells": [
  {
   "cell_type": "markdown",
   "metadata": {},
   "source": [
    "# Definitions\n",
    "**Metamodels - models that take other models as input - then construct new models based on comparing the performance of the individual models**\n",
    "\n",
    "* They are often used by data scientist and machine learnng experts for optimising models\n",
    "* They are closely related to the concept of adaptive models\n",
    "\n",
    "Exercise\n",
    "Modify the name / gender classifier to make use of a meta model\n",
    "For every n construct a model that would classify on the last three letter as input, where:\n",
    "  * n ranges from 3\n",
    "  * total length of the name\n",
    "Your meta model will then compare the performance of each and pick the best model\n",
    "To make it meta, the model has to build the smaller versions itself\n",
    "    * Has to set the training and  data set\n",
    "    * Pick n\n",
    "    * Run it and test accuracy"
   ]
  },
  {
   "cell_type": "code",
   "execution_count": 215,
   "metadata": {
    "collapsed": true
   },
   "outputs": [],
   "source": [
    "import nltk\n",
    "import random\n",
    "from nltk.corpus import names \n",
    "male_names =  [name for name in names.words('male.txt')]\n",
    "female_names =  [name for name in names.words('female.txt')]\n",
    "model_names = [(name, 'male') for name in names.words('male.txt')]\n",
    "model_names = model_names + [(name, 'female') for name in names.words('female.txt')]\n",
    "random.shuffle(model_names)"
   ]
  },
  {
   "cell_type": "code",
   "execution_count": 216,
   "metadata": {},
   "outputs": [],
   "source": [
    "def feature_dict(word):\n",
    "    dict = {}\n",
    "    dict['last_letter'] = word[-letter:]\n",
    "    if setting == 1:\n",
    "        dict['word_length'] = len(word)\n",
    "    return dict"
   ]
  },
  {
   "cell_type": "code",
   "execution_count": 217,
   "metadata": {},
   "outputs": [],
   "source": [
    "def build_feature_set():\n",
    "    return [(feature_dict(n), g)for (n, g) in model_names]"
   ]
  },
  {
   "cell_type": "code",
   "execution_count": 218,
   "metadata": {},
   "outputs": [
    {
     "name": "stdout",
     "output_type": "stream",
     "text": [
      "last 1 letters\n",
      "don't include word length\n",
      "result: 0.778\n",
      "include word length\n",
      "result: 0.778\n",
      "last 2 letters\n",
      "don't include word length\n",
      "result: 0.776\n",
      "include word length\n",
      "result: 0.79\n",
      "exclude 3 letters - data set includes shorter names\n",
      "{'letters': 2, 'length': 1} 0.79\n"
     ]
    }
   ],
   "source": [
    "letters = [1, 2, 3]\n",
    "include_length = [0, 1]\n",
    "score = 0\n",
    "best = {}\n",
    "\n",
    "for letter in letters:\n",
    "    if len([name for name in model_names if len(name) < letter]):\n",
    "        print('exclude {} letters - data set includes shorter names'.format(letter))\n",
    "        continue\n",
    "    print('last {} letters'.format(letter))\n",
    "    for setting in include_length:\n",
    "        if setting == 0:\n",
    "            print('don\\'t include word length')\n",
    "        else:\n",
    "            print('include word length')\n",
    "        feature_set = build_feature_set()\n",
    "        train_set, test_set = feature_set[500:],feature_set[:500]\n",
    "        classifier = nltk.NaiveBayesClassifier.train(train_set)\n",
    "        result = nltk.classify.accuracy(classifier, test_set)\n",
    "        print('result: {}'.format(result))\n",
    "        if result > score:\n",
    "            score = result\n",
    "            best['letters'] = letter\n",
    "            best['length'] = setting\n",
    "            \n",
    "print(best, score)"
   ]
  }
 ],
 "metadata": {
  "kernelspec": {
   "display_name": "Python 3",
   "language": "python",
   "name": "python3"
  },
  "language_info": {
   "codemirror_mode": {
    "name": "ipython",
    "version": 3
   },
   "file_extension": ".py",
   "mimetype": "text/x-python",
   "name": "python",
   "nbconvert_exporter": "python",
   "pygments_lexer": "ipython3",
   "version": "3.6.2"
  }
 },
 "nbformat": 4,
 "nbformat_minor": 2
}
